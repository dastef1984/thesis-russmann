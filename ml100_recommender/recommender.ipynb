{
 "cells": [
  {
   "cell_type": "code",
   "execution_count": 1,
   "id": "eb0c6853",
   "metadata": {},
   "outputs": [
    {
     "name": "stdout",
     "output_type": "stream",
     "text": [
      "   user_id  item_id  rating  timestamp\n",
      "0      196      242       3  881250949\n",
      "1      186      302       3  891717742\n",
      "2       22      377       1  878887116\n",
      "3      244       51       2  880606923\n",
      "4      166      346       1  886397596\n",
      "            user_id        item_id         rating     timestamp\n",
      "count  100000.00000  100000.000000  100000.000000  1.000000e+05\n",
      "mean      462.48475     425.530130       3.529860  8.835289e+08\n",
      "std       266.61442     330.798356       1.125674  5.343856e+06\n",
      "min         1.00000       1.000000       1.000000  8.747247e+08\n",
      "25%       254.00000     175.000000       3.000000  8.794487e+08\n",
      "50%       447.00000     322.000000       4.000000  8.828269e+08\n",
      "75%       682.00000     631.000000       4.000000  8.882600e+08\n",
      "max       943.00000    1682.000000       5.000000  8.932866e+08\n",
      "user_id      0\n",
      "item_id      0\n",
      "rating       0\n",
      "timestamp    0\n",
      "dtype: int64\n"
     ]
    }
   ],
   "source": [
    "import pandas as pd\n",
    "import numpy as np\n",
    "from scipy.sparse import coo_matrix\n",
    "\n",
    "# Step 1.1: Load the Data\n",
    "# The usual file name is 'u.data', but it might be different if you have a different version.\n",
    "# Make sure the separator is correct (tab-separated in the original MovieLens 100k dataset).\n",
    "\n",
    "ratings_columns = ['user_id', 'item_id', 'rating', 'timestamp']\n",
    "ratings = pd.read_csv('u.data', sep='\\t', names=ratings_columns, engine='python')\n",
    "\n",
    "# Display the first few rows to understand the structure\n",
    "print(ratings.head())\n",
    "\n",
    "# Step 1.2: Data Exploration\n",
    "# Basic stats\n",
    "print(ratings.describe())\n",
    "\n",
    "# Check for null values\n",
    "print(ratings.isnull().sum())\n",
    "\n",
    "# Step 1.3: Data Cleaning\n",
    "# As this dataset is relatively clean, there might not be much to do here.\n",
    "# But it's good practice to ensure IDs are treated as categorical data.\n",
    "ratings['user_id'] = ratings['user_id'].astype('category')\n",
    "ratings['item_id'] = ratings['item_id'].astype('category')\n",
    "\n",
    "# Step 1.4: Data Transformation\n",
    "# No transformations are needed for the Surprise library, but let's prepare the implicit feedback matrix.\n",
    "# Here, the assumption is that all ratings are implicit positive feedback.\n",
    "# You might want to threshold the ratings to consider only high ratings as positive feedback.\n",
    "\n",
    "# Create a sparse matrix for implicit feedback\n",
    "user_ids = ratings['user_id'].cat.codes\n",
    "item_ids = ratings['item_id'].cat.codes\n",
    "ratings_implicit = coo_matrix((np.ones_like(user_ids), (user_ids, item_ids)))\n",
    "\n",
    "# Step 1.5: Train/Test Split\n",
    "# For Surprise, we'll use built-in train-test split methods later in the pipeline.\n",
    "# For implicit feedback, we'll use the train_test_split function from the implicit library when we reach that step.\n",
    "\n",
    "# (The actual splitting will happen in their respective sections of the pipeline.)\n"
   ]
  },
  {
   "cell_type": "code",
   "execution_count": null,
   "id": "ca5187f6",
   "metadata": {},
   "outputs": [],
   "source": [
    "# Grid Search for Dataset ML100K (implicit feedback)\n",
    "# Results:\n",
    "# Best MAP: 1.0\n",
    "# Best Params: {'factors': 10, 'regularization': 0.01, 'iterations': 10}\n",
    "\n",
    "import numpy as np\n",
    "from implicit.als import AlternatingLeastSquares\n",
    "from implicit.evaluation import train_test_split, mean_average_precision_at_k\n",
    "from implicit.nearest_neighbours import bm25_weight\n",
    "\n",
    "# Hyperparameters to search over\n",
    "factors = [10, 50, 100]\n",
    "regularizations = [0.01, 0.1, 1.0]\n",
    "iterations = [10, 50, 100]\n",
    "\n",
    "# Step 2.1: Weight the matrix - BM25 is a common weighting scheme in Information Retrieval\n",
    "ratings_implicit_weighted = bm25_weight(ratings_implicit, K1=100, B=0.8)\n",
    "\n",
    "# Step 2.2: Train/Test Split\n",
    "# Using an 80-20 split for train and test sets\n",
    "train_implicit, test_implicit = train_test_split(ratings_implicit_weighted, train_percentage=0.8)\n",
    "\n",
    "# Transpose the train matrix as required by the library\n",
    "train_implicit = train_implicit.T\n",
    "\n",
    "best_map = 0\n",
    "best_params = {}\n",
    "\n",
    "# Step 2.3: Grid search\n",
    "for factor in factors:\n",
    "    for regularization in regularizations:\n",
    "        for iteration in iterations:\n",
    "            # Configure the ALS model\n",
    "            model_implicit = AlternatingLeastSquares(factors=factor,\n",
    "                                                     regularization=regularization,\n",
    "                                                     iterations=iteration,\n",
    "                                                     calculate_training_loss=True,\n",
    "                                                     use_gpu=False)\n",
    "\n",
    "            # Train the ALS model\n",
    "            model_implicit.fit(train_implicit)\n",
    "\n",
    "            # Evaluate the model using mean average precision at k\n",
    "            map_score = mean_average_precision_at_k(model_implicit, train_implicit, test_implicit.T, K=10)\n",
    "\n",
    "            # Update best parameters if current score is better\n",
    "            if map_score > best_map:\n",
    "                best_map = map_score\n",
    "                best_params = {'factors': factor, 'regularization': regularization, 'iterations': iteration}\n",
    "\n",
    "# Output the best parameters\n",
    "print(f\"Best MAP: {best_map}\")\n",
    "print(f\"Best Params: {best_params}\")\n",
    "\n",
    "# Step 2.4: Retrain the model with the best parameters found\n",
    "best_model_implicit = AlternatingLeastSquares(factors=best_params['factors'],\n",
    "                                               regularization=best_params['regularization'],\n",
    "                                               iterations=best_params['iterations'],\n",
    "                                               calculate_training_loss=True,\n",
    "                                               use_gpu=False)\n",
    "\n",
    "best_model_implicit.fit(train_implicit)\n",
    "# Now final_model_implicit is the trained model with the best parameters from the grid search\n"
   ]
  },
  {
   "cell_type": "code",
   "execution_count": null,
   "id": "b8914ea7",
   "metadata": {},
   "outputs": [],
   "source": [
    "# Grid Search for Dataset ML100K (explicit)\n",
    "# Results:\n",
    "# 0.9430248264478984\n",
    "# {'n_factors': 100, 'n_epochs': 20, 'lr_all': 0.005, 'reg_all': 0.1}\n",
    "\n",
    "from surprise import SVD, Dataset, Reader\n",
    "from surprise.model_selection import GridSearchCV\n",
    "from surprise.model_selection import train_test_split as surprise_train_test_split\n",
    "\n",
    "# Step 2.1: Setup the reader and dataset\n",
    "reader = Reader(rating_scale=(1, 5))\n",
    "data = Dataset.load_from_df(ratings[['user_id', 'item_id', 'rating']], reader)\n",
    "\n",
    "# Step 2.2: Define the parameter grid for grid search\n",
    "param_grid = {\n",
    "    'n_factors': [10, 50, 100],\n",
    "    'n_epochs': [5, 10, 20],\n",
    "    'lr_all': [0.002, 0.005],\n",
    "    'reg_all': [0.02, 0.1]\n",
    "}\n",
    "\n",
    "# Step 2.3: Setup GridSearchCV\n",
    "gs = GridSearchCV(SVD, param_grid, measures=['rmse', 'mae'], cv=3)\n",
    "\n",
    "# Step 2.4: Run the grid search on the entire dataset\n",
    "gs.fit(data)\n",
    "\n",
    "# Step 2.5: Best parameters and best score\n",
    "print(gs.best_score['rmse'])\n",
    "print(gs.best_params['rmse'])\n",
    "\n",
    "# Step 2.6: Train/Test Split\n",
    "# Using an 80-20 split for train and test sets\n",
    "train_explicit, test_explicit = surprise_train_test_split(data, test_size=0.2)\n",
    "\n",
    "# Step 2.7: Retrieve the best model from the grid search\n",
    "best_model_explicit = gs.best_estimator['rmse']\n",
    "\n",
    "# Step 2.8: Train the best SVD model\n",
    "best_model_explicit.fit(train_explicit)\n"
   ]
  },
  {
   "cell_type": "code",
   "execution_count": 2,
   "id": "ac3d549d",
   "metadata": {},
   "outputs": [
    {
     "name": "stderr",
     "output_type": "stream",
     "text": [
      "/home/stef/.local/lib/python3.10/site-packages/implicit/utils.py:138: ParameterWarning: Method expects CSR input, and was passed csc_matrix instead. Converting to CSR took 0.0008609294891357422 seconds\n",
      "  warnings.warn(\n"
     ]
    },
    {
     "data": {
      "application/vnd.jupyter.widget-view+json": {
       "model_id": "0d799a332a094789b54bb448bf491306",
       "version_major": 2,
       "version_minor": 0
      },
      "text/plain": [
       "  0%|          | 0/10 [00:00<?, ?it/s]"
      ]
     },
     "metadata": {},
     "output_type": "display_data"
    }
   ],
   "source": [
    "# Retrain the model with the best parameters found\n",
    "# As per your results, the best parameters are:\n",
    "# 'factors': 10, 'regularization': 0.01, 'iterations': 10\n",
    "\n",
    "import numpy as np\n",
    "from implicit.als import AlternatingLeastSquares\n",
    "from implicit.evaluation import train_test_split, mean_average_precision_at_k\n",
    "from implicit.nearest_neighbours import bm25_weight\n",
    "\n",
    "# Weight the matrix - BM25 is a common weighting scheme in Information Retrieval\n",
    "ratings_implicit_weighted = bm25_weight(ratings_implicit, K1=100, B=0.8)\n",
    "\n",
    "# Using an 80-20 split for train and test sets\n",
    "train_implicit, test_implicit = train_test_split(ratings_implicit_weighted, train_percentage=0.8)\n",
    "\n",
    "# Transpose the train matrix as required by the library\n",
    "train_implicit = train_implicit.T\n",
    "\n",
    "# Initialize the ALS model with the best parameters\n",
    "final_model_implicit = AlternatingLeastSquares(factors=10,\n",
    "                                               regularization=0.01,\n",
    "                                               iterations=10,\n",
    "                                               calculate_training_loss=True,\n",
    "                                               use_gpu=False)  # Set to True if you have a CUDA compatible GPU\n",
    "\n",
    "# Train the model on the full training set\n",
    "final_model_implicit.fit(train_implicit)\n",
    "\n",
    "# At this point, final_model_implicit is the trained model with the best parameters from the grid search\n",
    "\n",
    "# If you want to save this model for later use, you can use the following:\n",
    "import pickle\n",
    "\n",
    "with open('final_model_implicit.pkl', 'wb') as f:\n",
    "    pickle.dump(final_model_implicit, f)\n",
    "\n",
    "# To load it back:\n",
    "with open('final_model_implicit.pkl', 'rb') as f:\n",
    "    final_model_implicit = pickle.load(f)\n",
    "\n",
    "# Use the model to make predictions or further analysis as required\n"
   ]
  },
  {
   "cell_type": "code",
   "execution_count": 3,
   "id": "cd0a456b",
   "metadata": {},
   "outputs": [],
   "source": [
    "# Retrain the model with the best parameters found\n",
    "# As per your results, the best parameters are:\n",
    "# 'n_factors': 100, 'n_epochs': 20, 'lr_all': 0.005, 'reg_all': 0.1\n",
    "\n",
    "from surprise import SVD, Dataset, Reader\n",
    "from surprise.model_selection import train_test_split as surprise_train_test_split\n",
    "\n",
    "# Given best parameters from grid search\n",
    "best_params = {'n_factors': 100, 'n_epochs': 20, 'lr_all': 0.005, 'reg_all': 0.1}\n",
    "\n",
    "# Initialize the SVD model with the best parameters\n",
    "final_model_explicit = SVD(n_factors=best_params['n_factors'],\n",
    "                           n_epochs=best_params['n_epochs'],\n",
    "                           lr_all=best_params['lr_all'],\n",
    "                           reg_all=best_params['reg_all'])\n",
    "\n",
    "reader = Reader(rating_scale=(1, 5))\n",
    "data = Dataset.load_from_df(ratings[['user_id', 'item_id', 'rating']], reader)\n",
    "\n",
    "# Train/Test Split\n",
    "train_explicit, test_explicit = surprise_train_test_split(data, test_size=0.2)\n",
    "\n",
    "# Train the final model on the full training set\n",
    "final_model_explicit.fit(train_explicit)\n",
    "\n",
    "# The final_model_explicit is now trained with the best parameters\n",
    "# You can now use this model to make predictions or evaluate it further\n",
    "\n",
    "# If you want to save this model for later use, you can use the following:\n",
    "import pickle\n",
    "\n",
    "# Save the trained model to a file\n",
    "with open('final_model_explicit.pkl', 'wb') as file:\n",
    "    pickle.dump(final_model_explicit, file)\n",
    "\n",
    "# To load it back in the future:\n",
    "with open('final_model_explicit.pkl', 'rb') as file:\n",
    "    final_model_explicit = pickle.load(file)\n",
    "\n",
    "# Now you can use final_model_explicit to make predictions, etc.\n"
   ]
  },
  {
   "cell_type": "code",
   "execution_count": 4,
   "id": "a0744bee",
   "metadata": {},
   "outputs": [
    {
     "data": {
      "application/vnd.jupyter.widget-view+json": {
       "model_id": "345e8b8e7f8c42b9830c8c3e52b6160d",
       "version_major": 2,
       "version_minor": 0
      },
      "text/plain": [
       "  0%|          | 0/1411 [00:00<?, ?it/s]"
      ]
     },
     "metadata": {},
     "output_type": "display_data"
    },
    {
     "data": {
      "application/vnd.jupyter.widget-view+json": {
       "model_id": "77db7b9d8312436fb5908f286b86bba1",
       "version_major": 2,
       "version_minor": 0
      },
      "text/plain": [
       "  0%|          | 0/1411 [00:00<?, ?it/s]"
      ]
     },
     "metadata": {},
     "output_type": "display_data"
    },
    {
     "data": {
      "application/vnd.jupyter.widget-view+json": {
       "model_id": "f1cce0e97490458b989369ff862088fb",
       "version_major": 2,
       "version_minor": 0
      },
      "text/plain": [
       "  0%|          | 0/1411 [00:00<?, ?it/s]"
      ]
     },
     "metadata": {},
     "output_type": "display_data"
    },
    {
     "name": "stdout",
     "output_type": "stream",
     "text": [
      "For K=5: AUC=0.5925, NDCG=0.3007, Precision@K=0.3307\n"
     ]
    },
    {
     "data": {
      "application/vnd.jupyter.widget-view+json": {
       "model_id": "09d24bfce42c414e8e4a80fd260b73c3",
       "version_major": 2,
       "version_minor": 0
      },
      "text/plain": [
       "  0%|          | 0/1411 [00:00<?, ?it/s]"
      ]
     },
     "metadata": {},
     "output_type": "display_data"
    },
    {
     "data": {
      "application/vnd.jupyter.widget-view+json": {
       "model_id": "ff279a1fe7194ec7a53958f76f969619",
       "version_major": 2,
       "version_minor": 0
      },
      "text/plain": [
       "  0%|          | 0/1411 [00:00<?, ?it/s]"
      ]
     },
     "metadata": {},
     "output_type": "display_data"
    },
    {
     "data": {
      "application/vnd.jupyter.widget-view+json": {
       "model_id": "2bb8f3297a4f4d20a401b32ef0421413",
       "version_major": 2,
       "version_minor": 0
      },
      "text/plain": [
       "  0%|          | 0/1411 [00:00<?, ?it/s]"
      ]
     },
     "metadata": {},
     "output_type": "display_data"
    },
    {
     "name": "stdout",
     "output_type": "stream",
     "text": [
      "For K=10: AUC=0.5925, NDCG=0.2903, Precision@K=0.3393\n"
     ]
    },
    {
     "data": {
      "application/vnd.jupyter.widget-view+json": {
       "model_id": "019bc3f048894a0c98983613f052f469",
       "version_major": 2,
       "version_minor": 0
      },
      "text/plain": [
       "  0%|          | 0/1411 [00:00<?, ?it/s]"
      ]
     },
     "metadata": {},
     "output_type": "display_data"
    },
    {
     "data": {
      "application/vnd.jupyter.widget-view+json": {
       "model_id": "cb20a32271fd4943abbbc897d1635b7d",
       "version_major": 2,
       "version_minor": 0
      },
      "text/plain": [
       "  0%|          | 0/1411 [00:00<?, ?it/s]"
      ]
     },
     "metadata": {},
     "output_type": "display_data"
    },
    {
     "data": {
      "application/vnd.jupyter.widget-view+json": {
       "model_id": "827e49cae17b497da13c8c9ed5781b3c",
       "version_major": 2,
       "version_minor": 0
      },
      "text/plain": [
       "  0%|          | 0/1411 [00:00<?, ?it/s]"
      ]
     },
     "metadata": {},
     "output_type": "display_data"
    },
    {
     "name": "stdout",
     "output_type": "stream",
     "text": [
      "For K=15: AUC=0.5925, NDCG=0.2910, Precision@K=0.3523\n"
     ]
    },
    {
     "data": {
      "application/vnd.jupyter.widget-view+json": {
       "model_id": "d664643c2bb34c59888878049d3e5142",
       "version_major": 2,
       "version_minor": 0
      },
      "text/plain": [
       "  0%|          | 0/1411 [00:00<?, ?it/s]"
      ]
     },
     "metadata": {},
     "output_type": "display_data"
    },
    {
     "data": {
      "application/vnd.jupyter.widget-view+json": {
       "model_id": "4de5d2433bec49dc9774078d99da1040",
       "version_major": 2,
       "version_minor": 0
      },
      "text/plain": [
       "  0%|          | 0/1411 [00:00<?, ?it/s]"
      ]
     },
     "metadata": {},
     "output_type": "display_data"
    },
    {
     "data": {
      "application/vnd.jupyter.widget-view+json": {
       "model_id": "677070614d3449a4b9922f81104ad155",
       "version_major": 2,
       "version_minor": 0
      },
      "text/plain": [
       "  0%|          | 0/1411 [00:00<?, ?it/s]"
      ]
     },
     "metadata": {},
     "output_type": "display_data"
    },
    {
     "name": "stdout",
     "output_type": "stream",
     "text": [
      "For K=20: AUC=0.5925, NDCG=0.2958, Precision@K=0.3681\n"
     ]
    },
    {
     "data": {
      "image/png": "[encoded data removed]",
      "text/plain": [
       "<Figure size 864x504 with 1 Axes>"
      ]
     },
     "metadata": {
      "needs_background": "light"
     },
     "output_type": "display_data"
    }
   ],
   "source": [
    "# Evaluate Trained ALS-Model (implicit) with AUC, NDGC and Precision@K\n",
    "# Use 4 different K (5, 10, 15, 20)\n",
    "# Plot results as barchart\n",
    "\n",
    "import matplotlib.pyplot as plt\n",
    "from implicit.evaluation import AUC_at_k, ndcg_at_k, precision_at_k\n",
    "\n",
    "# Assuming you have a range of K values you want to test\n",
    "K_values = [5, 10, 15, 20]\n",
    "\n",
    "# Initialize lists to store the metrics for each K\n",
    "auc_scores = []\n",
    "ndcg_scores = []\n",
    "precision_at_k_scores = []\n",
    "\n",
    "# Compute the metrics for each K\n",
    "for K in K_values:\n",
    "    auc = AUC_at_k(final_model_implicit, train_implicit, test_implicit.T)\n",
    "    ndcg = ndcg_at_k(final_model_implicit, train_implicit, test_implicit.T, K=K)\n",
    "    precision = precision_at_k(final_model_implicit, train_implicit, test_implicit.T, K=K)\n",
    "\n",
    "    auc_scores.append(auc)\n",
    "    ndcg_scores.append(ndcg)\n",
    "    precision_at_k_scores.append(precision)\n",
    "\n",
    "    print(f'For K={K}: AUC={auc:.4f}, NDCG={ndcg:.4f}, Precision@K={precision:.4f}')\n",
    "\n",
    "# Now we plot the metrics in a bar chart\n",
    "x = range(len(K_values))\n",
    "\n",
    "plt.figure(figsize=(12, 7))\n",
    "\n",
    "plt.bar([i - 0.2 for i in x], auc_scores, width=0.2, label='AUC')\n",
    "plt.bar(x, ndcg_scores, width=0.2, label='NDCG', align='center')\n",
    "plt.bar([i + 0.2 for i in x], precision_at_k_scores, width=0.2, label='Precision@K')\n",
    "\n",
    "# Add some text for labels, title and custom x-axis tick labels, etc.\n",
    "plt.xlabel('K')\n",
    "plt.ylabel('Scores')\n",
    "plt.title('Evaluation Metrics for Implicit Feedback at Different K')\n",
    "plt.xticks(x, [f'K={k}' for k in K_values])\n",
    "plt.legend()\n",
    "\n",
    "# Adding the actual value on top of each bar for clarity\n",
    "for i in range(len(K_values)):\n",
    "    plt.text(i - 0.2, auc_scores[i] + 0.01, f'{auc_scores[i]:.2f}', ha='center')\n",
    "    plt.text(i, ndcg_scores[i] + 0.01, f'{ndcg_scores[i]:.2f}', ha='center')\n",
    "    plt.text(i + 0.2, precision_at_k_scores[i] + 0.01, f'{precision_at_k_scores[i]:.2f}', ha='center')\n",
    "\n",
    "plt.tight_layout()\n",
    "plt.show()\n"
   ]
  },
  {
   "cell_type": "code",
   "execution_count": 5,
   "id": "bf9aad0b",
   "metadata": {},
   "outputs": [],
   "source": [
    "\n",
    "\n",
    "from collections import defaultdict\n",
    "from sklearn.metrics import roc_auc_score\n",
    "from surprise import accuracy\n",
    "\n",
    "def get_top_n(predictions, n=10):\n",
    "    '''Return the top-N recommendation for each user from a set of predictions.'''\n",
    "    top_n = defaultdict(list)\n",
    "    for uid, iid, true_r, est, _ in predictions:\n",
    "        top_n[uid].append((iid, est))\n",
    "\n",
    "    for uid, user_ratings in top_n.items():\n",
    "        user_ratings.sort(key=lambda x: x[1], reverse=True)\n",
    "        top_n[uid] = user_ratings[:n]\n",
    "\n",
    "    return top_n\n",
    "\n",
    "def custom_auc_at_k(predictions, all_items, threshold=3.5):\n",
    "    '''Calculate AUC for all items, not just top k.'''\n",
    "    y_true = []\n",
    "    y_scores = []\n",
    "\n",
    "    # We consider all the items as the possible item space.\n",
    "    user_est_true = defaultdict(list)\n",
    "\n",
    "    for uid, _, true_r, est, _ in predictions:\n",
    "        user_est_true[uid].append((est, true_r))\n",
    "\n",
    "    for uid, user_ratings in user_est_true.items():\n",
    "        # Sort user ratings by estimated score and slice off the k highest\n",
    "        user_ratings.sort(key=lambda x: x[0], reverse=True)\n",
    "\n",
    "        # Ratings are marked as '1' if they are above the threshold.\n",
    "        y_true.extend([1 if true_r >= threshold else 0 for (_, true_r) in user_ratings])\n",
    "        y_scores.extend([est for (est, _) in user_ratings])\n",
    "\n",
    "    # We need at least one positive and one negative sample for AUC\n",
    "    if np.sum(y_true) > 0 and np.sum(y_true) < len(y_true):\n",
    "        return roc_auc_score(y_true, y_scores)\n",
    "    else:\n",
    "        return float('nan')  # or an appropriate value that indicates an undefined AUC\n",
    "\n",
    "\n",
    "def dcg_at_k(r, k, method=0):\n",
    "    \"\"\"Score is discounted cumulative gain (DCG)\"\"\"\n",
    "    r = np.asfarray(r)[:k]\n",
    "    if r.size:\n",
    "        if method == 0:\n",
    "            return r[0] + np.sum(r[1:] / np.log2(np.arange(2, r.size + 1)))\n",
    "        elif method == 1:\n",
    "            return np.sum(r / np.log2(np.arange(2, r.size + 2)))\n",
    "        else:\n",
    "            raise ValueError('method must be 0 or 1.')\n",
    "    return 0.\n",
    "\n",
    "def ndcg_at_k(r, k=10, method=0):\n",
    "    \"\"\"Score is normalized discounted cumulative gain (NDCG)\"\"\"\n",
    "    dcg_max = dcg_at_k(sorted(r, reverse=True), k, method)\n",
    "    if not dcg_max:\n",
    "        return 0.\n",
    "    return dcg_at_k(r, k, method) / dcg_max\n",
    "\n",
    "def custom_ndcg_at_k(predictions, k=10, threshold=3.5):\n",
    "    \"\"\"Average NDCG for all users\"\"\"\n",
    "    ndcg_scores = []\n",
    "    top_n = get_top_n(predictions, n=k)\n",
    "    for uid, user_ratings in top_n.items():\n",
    "        y_true = [1 if r >= threshold else 0 for (_, r) in user_ratings]\n",
    "        ndcg = ndcg_at_k(y_true, k)\n",
    "        ndcg_scores.append(ndcg)\n",
    "    return np.mean(ndcg_scores)\n",
    "\n",
    "def custom_precision_at_k(predictions, k=10, threshold=3.5):\n",
    "    \"\"\"Calculate precision at k for each user and average them.\"\"\"\n",
    "    precisions = []\n",
    "    top_n = get_top_n(predictions, n=k)\n",
    "    for uid, user_ratings in top_n.items():\n",
    "        n_rel = sum((1 for (_, r) in user_ratings if r >= threshold))\n",
    "        precision = n_rel / len(user_ratings)\n",
    "        precisions.append(precision)\n",
    "    return np.mean(precisions)\n"
   ]
  },
  {
   "cell_type": "code",
   "execution_count": 6,
   "id": "893110d5",
   "metadata": {},
   "outputs": [
    {
     "name": "stdout",
     "output_type": "stream",
     "text": [
      "For K=5: AUC=0.7731, NDCG=0.9394, Precision@K=0.8168\n",
      "For K=10: AUC=0.7731, NDCG=0.9394, Precision@K=0.7372\n",
      "For K=15: AUC=0.7731, NDCG=0.9394, Precision@K=0.6962\n",
      "For K=20: AUC=0.7731, NDCG=0.9394, Precision@K=0.6688\n"
     ]
    },
    {
     "data": {
      "text/plain": [
       "<Figure size 864x504 with 0 Axes>"
      ]
     },
     "metadata": {},
     "output_type": "display_data"
    },
    {
     "data": {
      "image/png": "[encoded data removed]",
      "text/plain": [
       "<Figure size 864x504 with 1 Axes>"
      ]
     },
     "metadata": {
      "needs_background": "light"
     },
     "output_type": "display_data"
    }
   ],
   "source": [
    "# Evaluate Trained SVD-Model (explicit) with AUC, NDGC and Precision@K\n",
    "# Use 4 different K (5, 10, 15, 20)\n",
    "# Plot results as barchart\n",
    "\n",
    "import numpy as np\n",
    "import matplotlib.pyplot as plt\n",
    "from sklearn.metrics import roc_auc_score\n",
    "\n",
    "# First, define the custom evaluation functions here (custom_ndcg_at_k, custom_precision_at_k)\n",
    "\n",
    "def custom_auc_at_k(predictions):\n",
    "    '''Calculate AUC for all items for each user and average them.'''\n",
    "    y_trues = []\n",
    "    y_scores = []\n",
    "\n",
    "    # Convert predictions to dict\n",
    "    user_est_true = defaultdict(list)\n",
    "    for uid, _, true_r, est, _ in predictions:\n",
    "        user_est_true[uid].append((est, true_r))\n",
    "\n",
    "    # Calculate AUC for each user\n",
    "    for uid, user_ratings in user_est_true.items():\n",
    "        # Sort user ratings by estimated value\n",
    "        user_ratings.sort(key=lambda x: x[0], reverse=True)\n",
    "        # Separate true ratings and estimated scores\n",
    "        y_true = [1 if true_r >= 3.5 else 0 for (_, true_r) in user_ratings]\n",
    "        y_score = [est for (est, _) in user_ratings]\n",
    "        # We need at least one positive and one negative sample for AUC\n",
    "        if sum(y_true) > 0 and sum(y_true) < len(y_true):\n",
    "            y_trues.extend(y_true)\n",
    "            y_scores.extend(y_score)\n",
    "\n",
    "    return roc_auc_score(y_trues, y_scores)\n",
    "\n",
    "# Assuming you have a range of K values you want to test\n",
    "K_values = [5, 10, 15, 20]\n",
    "\n",
    "# Make predictions on the test set\n",
    "predictions = final_model_explicit.test(test_explicit)\n",
    "\n",
    "# Initialize lists to store the metrics for each K\n",
    "auc_scores = []\n",
    "ndcg_scores = []\n",
    "precision_at_k_scores = []\n",
    "\n",
    "# Compute the metrics for each K\n",
    "for K in K_values:\n",
    "    # AUC is calculated for all items, hence not dependent on K\n",
    "    auc = custom_auc_at_k(predictions)\n",
    "    ndcg = custom_ndcg_at_k(predictions, k=K)\n",
    "    precision = custom_precision_at_k(predictions, k=K)\n",
    "\n",
    "    auc_scores.append(auc)  # This will be the same for all K values\n",
    "    ndcg_scores.append(ndcg)\n",
    "    precision_at_k_scores.append(precision)\n",
    "\n",
    "    print(f'For K={K}: AUC={auc:.4f}, NDCG={ndcg:.4f}, Precision@K={precision:.4f}')\n",
    "\n",
    "# Since AUC is the same for all K, just repeat the first value\n",
    "auc_scores = [auc_scores[0]] * len(K_values)\n",
    "\n",
    "# Now we plot the metrics in a bar chart\n",
    "x = np.arange(len(K_values))\n",
    "\n",
    "plt.figure(figsize=(12, 7))\n",
    "\n",
    "# AUC doesn't change with K, so we plot it as a line instead of bars\n",
    "plt.figure(figsize=(12, 7))\n",
    "\n",
    "plt.bar(x - 0.2, auc_scores, width=0.2, color='blue', align='center', label='AUC')\n",
    "plt.bar(x, ndcg_scores, width=0.2, color='green', align='center', label='NDCG')\n",
    "plt.bar(x + 0.2, precision_at_k_scores, width=0.2, color='red', align='center', label='Precision@K')\n",
    "\n",
    "# Add some text for labels, title and custom x-axis tick labels, etc.\n",
    "plt.xlabel('K')\n",
    "plt.ylabel('Scores')\n",
    "plt.title('Evaluation Metrics for Explicit Ratings at Different K')\n",
    "plt.xticks(x, [f'K={k}' for k in K_values])\n",
    "plt.legend()\n",
    "\n",
    "# Adding the actual value on top of each bar for clarity\n",
    "for i, (ndcg, precision) in enumerate(zip(ndcg_scores, precision_at_k_scores)):\n",
    "    plt.text(i - 0.1, ndcg + 0.01, f'{ndcg:.2f}', ha='center', va='bottom')\n",
    "    plt.text(i + 0.1, precision + 0.01, f'{precision:.2f}', ha='center', va='bottom')\n",
    "\n",
    "plt.tight_layout()\n",
    "plt.show()\n"
   ]
  },
  {
   "cell_type": "code",
   "execution_count": null,
   "id": "edc65635",
   "metadata": {},
   "outputs": [],
   "source": []
  }
 ],
 "metadata": {
  "kernelspec": {
   "display_name": "Python 3 (ipykernel)",
   "language": "python",
   "name": "python3"
  },
  "language_info": {
   "codemirror_mode": {
    "name": "ipython",
    "version": 3
   },
   "file_extension": ".py",
   "mimetype": "text/x-python",
   "name": "python",
   "nbconvert_exporter": "python",
   "pygments_lexer": "ipython3",
   "version": "3.10.6"
  }
 },
 "nbformat": 4,
 "nbformat_minor": 5
}
